{
 "cells": [
  {
   "cell_type": "markdown",
   "metadata": {},
   "source": [
    "### Imports\n",
    "\n",
    "We do the imports of some basic libs."
   ]
  },
  {
   "cell_type": "code",
   "execution_count": 1,
   "metadata": {
    "pycharm": {
     "name": "#%%\n"
    }
   },
   "outputs": [],
   "source": [
    "import torch\n",
    "import torchvision\n",
    "import torchvision.transforms as transforms\n",
    "\n",
    "import matplotlib.pyplot as plt\n",
    "import numpy as np\n",
    "import pandas as pd\n",
    "\n",
    "from sklearn import tree\n",
    "from sklearn.metrics import classification_report\n",
    "from sklearn.model_selection import RandomizedSearchCV\n",
    "from os.path import join as path_join\n",
    "from os import makedirs"
   ]
  },
  {
   "cell_type": "code",
   "execution_count": 2,
   "metadata": {
    "pycharm": {
     "name": "#%%\n"
    }
   },
   "outputs": [],
   "source": [
    "# Setting random seed for reproducibility of the results\n",
    "torch.manual_seed(0)\n",
    "np.random.seed(0)"
   ]
  },
  {
   "cell_type": "markdown",
   "metadata": {},
   "source": [
    "Change `IMG_TO_FILE` to True if you want to store the generated images to an `img` folder instead of plotting here."
   ]
  },
  {
   "cell_type": "code",
   "execution_count": 3,
   "metadata": {
    "pycharm": {
     "name": "#%%\n"
    }
   },
   "outputs": [],
   "source": [
    "IMG_TO_FILE = True  # Set this to true if you want to store the outputs in specific files"
   ]
  },
  {
   "cell_type": "markdown",
   "metadata": {},
   "source": [
    "You can also define the paths of the folders were to store the images and the dataset"
   ]
  },
  {
   "cell_type": "code",
   "execution_count": 4,
   "metadata": {
    "pycharm": {
     "name": "#%%\n"
    }
   },
   "outputs": [],
   "source": [
    "IMG_PATH = path_join(\"./img\")\n",
    "DATA_PATH = '../data'"
   ]
  },
  {
   "cell_type": "code",
   "execution_count": 5,
   "metadata": {
    "pycharm": {
     "name": "#%%\n"
    }
   },
   "outputs": [],
   "source": [
    "def plot_fig(name=None, **args):\n",
    "    if IMG_TO_FILE and name is not None:\n",
    "        makedirs(IMG_PATH, exist_ok=True)\n",
    "        plt.savefig(path_join(IMG_PATH, name), **args)\n",
    "        print(f\"Saving image to {path_join(IMG_PATH, name)}\")\n",
    "    else:\n",
    "        plt.show(**args)"
   ]
  },
  {
   "cell_type": "code",
   "execution_count": 6,
   "metadata": {
    "pycharm": {
     "name": "#%%\n"
    }
   },
   "outputs": [
    {
     "name": "stdout",
     "output_type": "stream",
     "text": [
      "Files already downloaded and verified\n",
      "Files already downloaded and verified\n"
     ]
    }
   ],
   "source": [
    "# Download and process the dataset\n",
    "transform = transforms.Compose(\n",
    "    [transforms.ToTensor(),\n",
    "     transforms.Normalize((0.5, 0.5, 0.5), (0.5, 0.5, 0.5))])\n",
    "\n",
    "batch_size = 4\n",
    "\n",
    "trainset = torchvision.datasets.CIFAR10(root=DATA_PATH, train=True,\n",
    "                                        download=True, transform=transform)\n",
    "trainloader = torch.utils.data.DataLoader(trainset,  batch_size=len(trainset), # batch_size=batch_size,\n",
    "                                          shuffle=True, num_workers=0)\n",
    "\n",
    "testset = torchvision.datasets.CIFAR10(root=DATA_PATH, train=False,\n",
    "                                       download=True, transform=transform)\n",
    "testloader = torch.utils.data.DataLoader(testset, batch_size=len(testset), # batch_size=batch_size,\n",
    "                                         shuffle=False, num_workers=0)\n",
    "\n",
    "classes = trainset.classes"
   ]
  },
  {
   "cell_type": "code",
   "execution_count": 7,
   "metadata": {},
   "outputs": [],
   "source": [
    "# functions to show an image\n",
    "def imshow(img):\n",
    "    img = img / 2 + 0.5     # un-normalize\n",
    "    npimg = img.numpy()\n",
    "    plt.imshow(np.transpose(npimg, (1, 2, 0)))\n",
    "    plt.show()"
   ]
  },
  {
   "cell_type": "code",
   "execution_count": 8,
   "metadata": {
    "pycharm": {
     "name": "#%%\n"
    }
   },
   "outputs": [],
   "source": [
    "# # get some random training images\n",
    "# dataiter = iter(trainloader)\n",
    "# images, labels = dataiter.next()\n",
    "#\n",
    "# # show images\n",
    "# imshow(torchvision.utils.make_grid(images))\n",
    "# # print labels\n",
    "# print(' '.join('%5s' % classes[labels[j]] for j in range(batch_size)))"
   ]
  },
  {
   "cell_type": "code",
   "execution_count": 9,
   "metadata": {
    "pycharm": {
     "name": "#%%\n"
    }
   },
   "outputs": [],
   "source": [
    "X_train, y_train = next(iter(trainloader))\n",
    "X_train = X_train.reshape((X_train.shape[0], np.prod(X_train.shape[1:])))"
   ]
  },
  {
   "cell_type": "code",
   "execution_count": 13,
   "metadata": {
    "pycharm": {
     "name": "#%%\n"
    }
   },
   "outputs": [],
   "source": [
    "X_test, y_test = next(iter(testloader))\n",
    "X_test = X_test.reshape((X_test.shape[0], np.prod(X_test.shape[1:])))"
   ]
  },
  {
   "cell_type": "code",
   "execution_count": null,
   "metadata": {
    "pycharm": {
     "name": "#%%\n"
    }
   },
   "outputs": [],
   "source": [
    "dt = tree.DecisionTreeClassifier()\n",
    "dt_fit = dt.fit(X_train, y_train)\n",
    "print(f\"The depth of this tree is {dt_fit.get_depth()} and it has {dt_fit.get_n_leaves()} leaves\")\n",
    "tree.plot_tree(dt_fit)\n",
    "plot_fig(\"out_of_the_shelf_dt.pdf\")"
   ]
  },
  {
   "cell_type": "code",
   "execution_count": 12,
   "metadata": {
    "pycharm": {
     "name": "#%%\n"
    }
   },
   "outputs": [
    {
     "name": "stdout",
     "output_type": "stream",
     "text": [
      "              precision    recall  f1-score   support\n",
      "\n",
      "    airplane       0.34      0.34      0.34      1000\n",
      "  automobile       0.29      0.27      0.28      1000\n",
      "        bird       0.21      0.23      0.22      1000\n",
      "         cat       0.20      0.20      0.20      1000\n",
      "        deer       0.22      0.23      0.22      1000\n",
      "         dog       0.22      0.22      0.22      1000\n",
      "        frog       0.28      0.28      0.28      1000\n",
      "       horse       0.27      0.26      0.27      1000\n",
      "        ship       0.36      0.39      0.37      1000\n",
      "       truck       0.30      0.29      0.29      1000\n",
      "\n",
      "    accuracy                           0.27     10000\n",
      "   macro avg       0.27      0.27      0.27     10000\n",
      "weighted avg       0.27      0.27      0.27     10000\n",
      "\n"
     ]
    }
   ],
   "source": [
    "print(classification_report(y_test, dt_fit.predict(X_test), target_names=classes))"
   ]
  },
  {
   "cell_type": "code",
   "execution_count": 10,
   "metadata": {
    "pycharm": {
     "name": "#%%\n"
    }
   },
   "outputs": [
    {
     "name": "stdout",
     "output_type": "stream",
     "text": [
      "The depth of this tree is 10 and it has 756 leaves\n"
     ]
    },
    {
     "ename": "NameError",
     "evalue": "name 'y_test' is not defined",
     "output_type": "error",
     "traceback": [
      "\u001b[1;31m---------------------------------------------------------------------------\u001b[0m",
      "\u001b[1;31mNameError\u001b[0m                                 Traceback (most recent call last)",
      "\u001b[1;32m~\\AppData\\Local\\Temp/ipykernel_10504/1941982637.py\u001b[0m in \u001b[0;36m<module>\u001b[1;34m\u001b[0m\n\u001b[0;32m      6\u001b[0m \u001b[0mopt_dt_fit\u001b[0m \u001b[1;33m=\u001b[0m \u001b[0mopt_dt\u001b[0m\u001b[1;33m.\u001b[0m\u001b[0mfit\u001b[0m\u001b[1;33m(\u001b[0m\u001b[0mX_train\u001b[0m\u001b[1;33m,\u001b[0m \u001b[0my_train\u001b[0m\u001b[1;33m)\u001b[0m \u001b[1;31m# Hyper-parameter optimized DT\u001b[0m\u001b[1;33m\u001b[0m\u001b[1;33m\u001b[0m\u001b[0m\n\u001b[0;32m      7\u001b[0m \u001b[0mprint\u001b[0m\u001b[1;33m(\u001b[0m\u001b[1;34mf\"The depth of this tree is {opt_dt_fit.best_estimator_.get_depth()} and it has {opt_dt_fit.best_estimator_.get_n_leaves()} leaves\"\u001b[0m\u001b[1;33m)\u001b[0m\u001b[1;33m\u001b[0m\u001b[1;33m\u001b[0m\u001b[0m\n\u001b[1;32m----> 8\u001b[1;33m \u001b[0mprint\u001b[0m\u001b[1;33m(\u001b[0m\u001b[0mclassification_report\u001b[0m\u001b[1;33m(\u001b[0m\u001b[0my_test\u001b[0m\u001b[1;33m,\u001b[0m \u001b[0mopt_dt_fit\u001b[0m\u001b[1;33m.\u001b[0m\u001b[0mbest_estimator_\u001b[0m\u001b[1;33m.\u001b[0m\u001b[0mpredict\u001b[0m\u001b[1;33m(\u001b[0m\u001b[0mX_test\u001b[0m\u001b[1;33m)\u001b[0m\u001b[1;33m,\u001b[0m \u001b[0mtarget_names\u001b[0m\u001b[1;33m=\u001b[0m\u001b[0mclasses\u001b[0m\u001b[1;33m)\u001b[0m\u001b[1;33m)\u001b[0m\u001b[1;33m\u001b[0m\u001b[1;33m\u001b[0m\u001b[0m\n\u001b[0m",
      "\u001b[1;31mNameError\u001b[0m: name 'y_test' is not defined"
     ]
    }
   ],
   "source": [
    "parameters = {'max_depth': (5, 10, 15, 20, 30),\n",
    "              #'min_samples_split': (2,3,5,10,15,20),\n",
    "              'min_samples_leaf': (2,5,10,15,20),\n",
    "              'max_features': ('sqrt', 'log2', None)}\n",
    "opt_dt = RandomizedSearchCV(tree.DecisionTreeClassifier(), parameters, cv=3, n_jobs=-1, refit=True, n_iter=20)\n",
    "opt_dt_fit = opt_dt.fit(X_train, y_train) # Hyper-parameter optimized DT\n",
    "print(f\"The depth of this tree is {opt_dt_fit.best_estimator_.get_depth()} and it has {opt_dt_fit.best_estimator_.get_n_leaves()} leaves\")\n"
   ]
  },
  {
   "cell_type": "code",
   "execution_count": 14,
   "metadata": {},
   "outputs": [
    {
     "name": "stdout",
     "output_type": "stream",
     "text": [
      "              precision    recall  f1-score   support\n",
      "\n",
      "    airplane       0.38      0.43      0.40      1000\n",
      "  automobile       0.36      0.30      0.33      1000\n",
      "        bird       0.22      0.19      0.20      1000\n",
      "         cat       0.17      0.18      0.18      1000\n",
      "        deer       0.26      0.25      0.26      1000\n",
      "         dog       0.28      0.21      0.24      1000\n",
      "        frog       0.29      0.44      0.35      1000\n",
      "       horse       0.30      0.27      0.29      1000\n",
      "        ship       0.44      0.45      0.45      1000\n",
      "       truck       0.35      0.35      0.35      1000\n",
      "\n",
      "    accuracy                           0.31     10000\n",
      "   macro avg       0.31      0.31      0.30     10000\n",
      "weighted avg       0.31      0.31      0.30     10000\n",
      "\n"
     ]
    }
   ],
   "source": [
    "print(classification_report(y_test, opt_dt_fit.best_estimator_.predict(X_test), target_names=classes))"
   ]
  },
  {
   "cell_type": "code",
   "execution_count": 15,
   "metadata": {
    "pycharm": {
     "name": "#%%\n"
    }
   },
   "outputs": [
    {
     "name": "stdout",
     "output_type": "stream",
     "text": [
      "Saving image to ./img\\tuned_dt.pdf\n"
     ]
    },
    {
     "data": {
      "image/png": "[encoded data removed]",
      "text/plain": [
       "<Figure size 432x288 with 1 Axes>"
      ]
     },
     "metadata": {
      "needs_background": "light"
     },
     "output_type": "display_data"
    }
   ],
   "source": [
    "tree.plot_tree(opt_dt_fit.best_estimator_)\n",
    "plot_fig(\"tuned_dt.pdf\")"
   ]
  },
  {
   "cell_type": "code",
   "execution_count": 17,
   "metadata": {},
   "outputs": [
    {
     "data": {
      "text/plain": [
       "{'ccp_alpha': 0.0,\n",
       " 'class_weight': None,\n",
       " 'criterion': 'gini',\n",
       " 'max_depth': 10,\n",
       " 'max_features': None,\n",
       " 'max_leaf_nodes': None,\n",
       " 'min_impurity_decrease': 0.0,\n",
       " 'min_samples_leaf': 10,\n",
       " 'min_samples_split': 2,\n",
       " 'min_weight_fraction_leaf': 0.0,\n",
       " 'random_state': None,\n",
       " 'splitter': 'best'}"
      ]
     },
     "execution_count": 17,
     "metadata": {},
     "output_type": "execute_result"
    }
   ],
   "source": [
    "opt_dt_fit.best_estimator_.get_params()"
   ]
  },
  {
   "cell_type": "code",
   "execution_count": 23,
   "metadata": {
    "pycharm": {
     "name": "#%%\n"
    }
   },
   "outputs": [
    {
     "name": "stdout",
     "output_type": "stream",
     "text": [
      "Tree with 2 and 4 leaves\n",
      "2 & 4 & 0.1955\n"
     ]
    },
    {
     "name": "stderr",
     "output_type": "stream",
     "text": [
      "C:\\ProgramData\\Miniconda3\\envs\\comp-263-essay-on-explainability\\lib\\site-packages\\sklearn\\metrics\\_classification.py:1308: UndefinedMetricWarning: Precision and F-score are ill-defined and being set to 0.0 in labels with no predicted samples. Use `zero_division` parameter to control this behavior.\n",
      "  _warn_prf(average, modifier, msg_start, len(result))\n",
      "C:\\ProgramData\\Miniconda3\\envs\\comp-263-essay-on-explainability\\lib\\site-packages\\sklearn\\metrics\\_classification.py:1308: UndefinedMetricWarning: Precision and F-score are ill-defined and being set to 0.0 in labels with no predicted samples. Use `zero_division` parameter to control this behavior.\n",
      "  _warn_prf(average, modifier, msg_start, len(result))\n",
      "C:\\ProgramData\\Miniconda3\\envs\\comp-263-essay-on-explainability\\lib\\site-packages\\sklearn\\metrics\\_classification.py:1308: UndefinedMetricWarning: Precision and F-score are ill-defined and being set to 0.0 in labels with no predicted samples. Use `zero_division` parameter to control this behavior.\n",
      "  _warn_prf(average, modifier, msg_start, len(result))\n"
     ]
    },
    {
     "name": "stdout",
     "output_type": "stream",
     "text": [
      "Saving image to ./img\\many_sizes_of_trees_2.pdf\n",
      "Tree with 3 and 8 leaves\n",
      "3 & 8 & 0.2394\n"
     ]
    },
    {
     "name": "stderr",
     "output_type": "stream",
     "text": [
      "C:\\ProgramData\\Miniconda3\\envs\\comp-263-essay-on-explainability\\lib\\site-packages\\sklearn\\metrics\\_classification.py:1308: UndefinedMetricWarning: Precision and F-score are ill-defined and being set to 0.0 in labels with no predicted samples. Use `zero_division` parameter to control this behavior.\n",
      "  _warn_prf(average, modifier, msg_start, len(result))\n",
      "C:\\ProgramData\\Miniconda3\\envs\\comp-263-essay-on-explainability\\lib\\site-packages\\sklearn\\metrics\\_classification.py:1308: UndefinedMetricWarning: Precision and F-score are ill-defined and being set to 0.0 in labels with no predicted samples. Use `zero_division` parameter to control this behavior.\n",
      "  _warn_prf(average, modifier, msg_start, len(result))\n",
      "C:\\ProgramData\\Miniconda3\\envs\\comp-263-essay-on-explainability\\lib\\site-packages\\sklearn\\metrics\\_classification.py:1308: UndefinedMetricWarning: Precision and F-score are ill-defined and being set to 0.0 in labels with no predicted samples. Use `zero_division` parameter to control this behavior.\n",
      "  _warn_prf(average, modifier, msg_start, len(result))\n"
     ]
    },
    {
     "name": "stdout",
     "output_type": "stream",
     "text": [
      "Saving image to ./img\\many_sizes_of_trees_3.pdf\n",
      "Tree with 5 and 32 leaves\n",
      "5 & 32 & 0.2669\n",
      "Saving image to ./img\\many_sizes_of_trees_5.pdf\n",
      "Tree with 7 and 128 leaves\n",
      "7 & 128 & 0.293\n",
      "Saving image to ./img\\many_sizes_of_trees_7.pdf\n",
      "Tree with 9 and 453 leaves\n",
      "9 & 453 & 0.3053\n",
      "Saving image to ./img\\many_sizes_of_trees_9.pdf\n"
     ]
    },
    {
     "data": {
      "image/png": "[encoded data removed]",
      "text/plain": [
       "<Figure size 432x288 with 1 Axes>"
      ]
     },
     "metadata": {
      "needs_background": "light"
     },
     "output_type": "display_data"
    }
   ],
   "source": [
    "depths = (2,3,5,7,9)\n",
    "\n",
    "best_params = {'ccp_alpha': 0.0,\n",
    " 'class_weight': None,\n",
    " 'criterion': 'gini',\n",
    " 'max_features': None,\n",
    " 'max_leaf_nodes': None,\n",
    " 'min_impurity_decrease': 0.0,\n",
    " 'min_samples_leaf': 10,\n",
    " 'min_samples_split': 2,\n",
    " 'min_weight_fraction_leaf': 0.0,\n",
    " 'random_state': None,\n",
    " 'splitter': 'best'}\n",
    "\n",
    "many_trees = list()\n",
    "for depth in depths:\n",
    "    depth_dt = tree.DecisionTreeClassifier(max_depth=depth, **best_params)\n",
    "    depth_dt_fit = depth_dt.fit(X_train, y_train)\n",
    "    print(f\"Tree with {depth_dt_fit.get_depth()} and {depth_dt_fit.get_n_leaves()} leaves\")\n",
    "    acc = classification_report(y_test,\n",
    "                                depth_dt_fit.predict(X_test),\n",
    "                                target_names=classes, output_dict=True)['accuracy']\n",
    "    print(f\"{depth_dt_fit.get_depth()} & {depth_dt_fit.get_n_leaves()} & {acc}\")\n",
    "    tree.plot_tree(depth_dt_fit)\n",
    "    plot_fig(f\"many_sizes_of_trees_{depth}.pdf\")\n",
    "    many_trees.append(depth_dt_fit)"
   ]
  },
  {
   "cell_type": "code",
   "execution_count": null,
   "metadata": {},
   "outputs": [
    {
     "name": "stderr",
     "output_type": "stream",
     "text": [
      "C:\\ProgramData\\Miniconda3\\envs\\comp-263-essay-on-explainability\\lib\\site-packages\\sklearn\\metrics\\_classification.py:1308: UndefinedMetricWarning: Precision and F-score are ill-defined and being set to 0.0 in labels with no predicted samples. Use `zero_division` parameter to control this behavior.\n",
      "  _warn_prf(average, modifier, msg_start, len(result))\n",
      "C:\\ProgramData\\Miniconda3\\envs\\comp-263-essay-on-explainability\\lib\\site-packages\\sklearn\\metrics\\_classification.py:1308: UndefinedMetricWarning: Precision and F-score are ill-defined and being set to 0.0 in labels with no predicted samples. Use `zero_division` parameter to control this behavior.\n",
      "  _warn_prf(average, modifier, msg_start, len(result))\n",
      "C:\\ProgramData\\Miniconda3\\envs\\comp-263-essay-on-explainability\\lib\\site-packages\\sklearn\\metrics\\_classification.py:1308: UndefinedMetricWarning: Precision and F-score are ill-defined and being set to 0.0 in labels with no predicted samples. Use `zero_division` parameter to control this behavior.\n",
      "  _warn_prf(average, modifier, msg_start, len(result))\n",
      "C:\\ProgramData\\Miniconda3\\envs\\comp-263-essay-on-explainability\\lib\\site-packages\\sklearn\\metrics\\_classification.py:1308: UndefinedMetricWarning: Precision and F-score are ill-defined and being set to 0.0 in labels with no predicted samples. Use `zero_division` parameter to control this behavior.\n",
      "  _warn_prf(average, modifier, msg_start, len(result))\n",
      "C:\\ProgramData\\Miniconda3\\envs\\comp-263-essay-on-explainability\\lib\\site-packages\\sklearn\\metrics\\_classification.py:1308: UndefinedMetricWarning: Precision and F-score are ill-defined and being set to 0.0 in labels with no predicted samples. Use `zero_division` parameter to control this behavior.\n",
      "  _warn_prf(average, modifier, msg_start, len(result))\n",
      "C:\\ProgramData\\Miniconda3\\envs\\comp-263-essay-on-explainability\\lib\\site-packages\\sklearn\\metrics\\_classification.py:1308: UndefinedMetricWarning: Precision and F-score are ill-defined and being set to 0.0 in labels with no predicted samples. Use `zero_division` parameter to control this behavior.\n",
      "  _warn_prf(average, modifier, msg_start, len(result))\n"
     ]
    }
   ],
   "source": [
    "for tree in many_trees:\n",
    "    acc = classification_report(y_test,\n",
    "                                tree.predict(X_test),\n",
    "                                target_names=classes, output_dict=True)['accuracy']\n",
    "    many_trees.append(depth_dt)"
   ]
  },
  {
   "cell_type": "code",
   "execution_count": 19,
   "metadata": {},
   "outputs": [
    {
     "data": {
      "text/plain": [
       "{'airplane': {'precision': 0.38227394807520143,\n",
       "  'recall': 0.427,\n",
       "  'f1-score': 0.4034010392064242,\n",
       "  'support': 1000},\n",
       " 'automobile': {'precision': 0.3589435774309724,\n",
       "  'recall': 0.299,\n",
       "  'f1-score': 0.3262411347517731,\n",
       "  'support': 1000},\n",
       " 'bird': {'precision': 0.21820303383897316,\n",
       "  'recall': 0.187,\n",
       "  'f1-score': 0.20140010770059236,\n",
       "  'support': 1000},\n",
       " 'cat': {'precision': 0.1738703339882122,\n",
       "  'recall': 0.177,\n",
       "  'f1-score': 0.17542120911793854,\n",
       "  'support': 1000},\n",
       " 'deer': {'precision': 0.2581967213114754,\n",
       "  'recall': 0.252,\n",
       "  'f1-score': 0.2550607287449393,\n",
       "  'support': 1000},\n",
       " 'dog': {'precision': 0.28112449799196787,\n",
       "  'recall': 0.21,\n",
       "  'f1-score': 0.2404121350887235,\n",
       "  'support': 1000},\n",
       " 'frog': {'precision': 0.2878590078328982,\n",
       "  'recall': 0.441,\n",
       "  'f1-score': 0.34834123222748814,\n",
       "  'support': 1000},\n",
       " 'horse': {'precision': 0.3040089086859688,\n",
       "  'recall': 0.273,\n",
       "  'f1-score': 0.28767123287671226,\n",
       "  'support': 1000},\n",
       " 'ship': {'precision': 0.44259077526987245,\n",
       "  'recall': 0.451,\n",
       "  'f1-score': 0.44675581971272915,\n",
       "  'support': 1000},\n",
       " 'truck': {'precision': 0.35294117647058826,\n",
       "  'recall': 0.354,\n",
       "  'f1-score': 0.3534697953070395,\n",
       "  'support': 1000},\n",
       " 'accuracy': 0.3071,\n",
       " 'macro avg': {'precision': 0.306001198089613,\n",
       "  'recall': 0.30710000000000004,\n",
       "  'f1-score': 0.30381744347343603,\n",
       "  'support': 10000},\n",
       " 'weighted avg': {'precision': 0.306001198089613,\n",
       "  'recall': 0.3071,\n",
       "  'f1-score': 0.303817443473436,\n",
       "  'support': 10000}}"
      ]
     },
     "execution_count": 19,
     "metadata": {},
     "output_type": "execute_result"
    }
   ],
   "source": [
    "classification_report(y_test, opt_dt_fit.best_estimator_.predict(X_test), target_names=classes,output_dict=True)['accuracy']"
   ]
  },
  {
   "cell_type": "code",
   "execution_count": null,
   "metadata": {},
   "outputs": [],
   "source": []
  }
 ],
 "metadata": {
  "kernelspec": {
   "display_name": "Python 3 (ipykernel)",
   "language": "python",
   "name": "python3"
  },
  "language_info": {
   "codemirror_mode": {
    "name": "ipython",
    "version": 3
   },
   "file_extension": ".py",
   "mimetype": "text/x-python",
   "name": "python",
   "nbconvert_exporter": "python",
   "pygments_lexer": "ipython3",
   "version": "3.9.7"
  },
  "pycharm": {
   "stem_cell": {
    "cell_type": "raw",
    "metadata": {
     "collapsed": false
    },
    "source": [
     "\"\"\"\n",
     "Here we describe experiments with both \"vanilla\" decision trees and state of the art decision tree settings for the\n",
     "CIFAR 10 dataset.\n",
     "\"\"\""
    ]
   }
  }
 },
 "nbformat": 4,
 "nbformat_minor": 1
}
